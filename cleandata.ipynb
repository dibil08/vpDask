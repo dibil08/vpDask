{
 "metadata": {
  "language_info": {
   "codemirror_mode": {
    "name": "ipython",
    "version": 3
   },
   "file_extension": ".py",
   "mimetype": "text/x-python",
   "name": "python",
   "nbconvert_exporter": "python",
   "pygments_lexer": "ipython3",
   "version": "3.8.5"
  },
  "orig_nbformat": 2,
  "kernelspec": {
   "name": "python3",
   "display_name": "Python 3",
   "language": "python"
  }
 },
 "nbformat": 4,
 "nbformat_minor": 2,
 "cells": [
  {
   "cell_type": "code",
   "execution_count": 8,
   "metadata": {},
   "outputs": [
    {
     "output_type": "stream",
     "name": "stderr",
     "text": [
      "/home/summer/.local/lib/python3.8/site-packages/distributed/node.py:160: UserWarning: Port 8787 is already in use.\nPerhaps you already have a cluster running?\nHosting the HTTP server on port 41333 instead\n  warnings.warn(\n"
     ]
    },
    {
     "output_type": "display_data",
     "data": {
      "text/plain": "<Client: 'tcp://127.0.0.1:36019' processes=2 threads=4, memory=18.63 GiB>",
      "text/html": "<table style=\"border: 2px solid white;\">\n<tr>\n<td style=\"vertical-align: top; border: 0px solid white\">\n<h3 style=\"text-align: left;\">Client</h3>\n<ul style=\"text-align: left; list-style: none; margin: 0; padding: 0;\">\n  <li><b>Scheduler: </b>tcp://127.0.0.1:36019</li>\n  <li><b>Dashboard: </b><a href='http://127.0.0.1:41333/status' target='_blank'>http://127.0.0.1:41333/status</a></li>\n</ul>\n</td>\n<td style=\"vertical-align: top; border: 0px solid white\">\n<h3 style=\"text-align: left;\">Cluster</h3>\n<ul style=\"text-align: left; list-style:none; margin: 0; padding: 0;\">\n  <li><b>Workers: </b>2</li>\n  <li><b>Cores: </b>4</li>\n  <li><b>Memory: </b>18.63 GiB</li>\n</ul>\n</td>\n</tr>\n</table>"
     },
     "metadata": {}
    },
    {
     "output_type": "stream",
     "name": "stdout",
     "text": [
      "         user            item  rating   timestamp\n",
      "0  0020232233  A1IDMI31WEANAF     2.0  1474502400\n",
      "1  0020232233   A4BCEVVZ4Y3V3     1.0  1474156800\n",
      "2  0020232233  A2EZ9PY1IHHBX0     3.0  1473638400\n",
      "3  0020232233  A139PXTTC2LGHZ     5.0  1488412800\n",
      "4  0020232233  A3IB33V29XIL8O     1.0  1486512000\n",
      "8201231\n",
      "CPU times: user 4.43 s, sys: 563 ms, total: 5 s\n",
      "Wall time: 22.9 s\n",
      "CPU times: user 1.15 s, sys: 290 ms, total: 1.44 s\n",
      "Wall time: 6.88 s\n",
      "(array([      0,       1,       2, ..., 4204991, 4204992, 4204993]), Index(['A1IDMI31WEANAF', 'A4BCEVVZ4Y3V3', 'A2EZ9PY1IHHBX0', 'A139PXTTC2LGHZ',\n",
      "       'A3IB33V29XIL8O', 'A1J86V48S4KRJE', 'A14J12PRBLGHF4', 'A2UKOWP9ICU416',\n",
      "       'A2ONKKDETRWT79', 'AK9GN9KZZNTEP',\n",
      "       ...\n",
      "       'A3FFQ7G5V45WJ5', 'AA61YB68DLK65', 'A29DE6IOYT0MM9', 'A32OT82VP12NVC',\n",
      "       'A2L759QVX3KTL6', 'A1SU8WSUR49A1E', 'A2O43XSWKAE1R5', 'A1W75PEIIL0IFM',\n",
      "       'A3OCDEVI6FGUWU', 'A3N28JAZYS4L9O'],\n",
      "      dtype='object', length=4204994))\n",
      "(array([     0,      1,      2, ..., 624789, 624790, 624791]), Index(['0020232233', '038536539X', '0486277577', '0486402029', '0486427706',\n",
      "       '0486448789', '0545325234', '0545346193', '0545561647', '0615638996',\n",
      "       ...\n",
      "       'B01HJC53OE', 'B01HJAOLDU', 'B01HJBAKUM', 'B01HJBAWGY', 'B01HJBAKLG',\n",
      "       'B01HJBANAE', 'B01HJBAKGQ', 'B01HJAEYBY', 'B01HJDGVFS', 'B01HJHA7GI'],\n",
      "      dtype='object', length=624792))\n"
     ]
    }
   ],
   "source": [
    "from dask import dataframe as dd\n",
    "import dask\n",
    "import dask.dataframe as dd\n",
    "from dask.distributed import Client, LocalCluster\n",
    "from dask import multiprocessing\n",
    "import  numpy as np\n",
    "\n",
    "blockSize=10e6\n",
    "fileRead=\"Toys_and_Games.csv\"\n",
    "fileWrite=\"data/\"+fileRead\n",
    "parquestWrite=fileRead.split(\".\")[0]+str(blockSize)\n",
    "\n",
    "\n",
    "cluster = LocalCluster(n_workers=2, threads_per_worker=2,memory_limit='10GB')\n",
    "client = Client(cluster, asynchronous=True)\n",
    "display(client)\n",
    "\n",
    "data=dd.read_csv(fileRead, blocksize=blockSize,names=[\"user\", \"item\", \"rating\", \"timestamp\"])\n",
    "print(data.head())\n",
    "itemSize=data.item.count().compute()\n",
    "print(itemSize)\n",
    "%time itemLabel=data['item'].unique().compute().factorize()\n",
    "%time userLabel=data['user'].unique().compute().factorize()\n",
    "\n",
    "print(itemLabel)\n",
    "\n",
    "print(userLabel)"
   ]
  },
  {
   "cell_type": "code",
   "execution_count": 9,
   "metadata": {},
   "outputs": [
    {
     "output_type": "error",
     "ename": "KeyError",
     "evalue": "'0020232233'",
     "traceback": [
      "\u001b[0;31m---------------------------------------------------------------------------\u001b[0m",
      "\u001b[0;31mKeyError\u001b[0m                                  Traceback (most recent call last)",
      "\u001b[0;32m~/.local/lib/python3.8/site-packages/pandas/core/indexes/base.py\u001b[0m in \u001b[0;36mget_loc\u001b[0;34m(self, key, method, tolerance)\u001b[0m\n\u001b[1;32m   3079\u001b[0m             \u001b[0;32mtry\u001b[0m\u001b[0;34m:\u001b[0m\u001b[0;34m\u001b[0m\u001b[0;34m\u001b[0m\u001b[0m\n\u001b[0;32m-> 3080\u001b[0;31m                 \u001b[0;32mreturn\u001b[0m \u001b[0mself\u001b[0m\u001b[0;34m.\u001b[0m\u001b[0m_engine\u001b[0m\u001b[0;34m.\u001b[0m\u001b[0mget_loc\u001b[0m\u001b[0;34m(\u001b[0m\u001b[0mcasted_key\u001b[0m\u001b[0;34m)\u001b[0m\u001b[0;34m\u001b[0m\u001b[0;34m\u001b[0m\u001b[0m\n\u001b[0m\u001b[1;32m   3081\u001b[0m             \u001b[0;32mexcept\u001b[0m \u001b[0mKeyError\u001b[0m \u001b[0;32mas\u001b[0m \u001b[0merr\u001b[0m\u001b[0;34m:\u001b[0m\u001b[0;34m\u001b[0m\u001b[0;34m\u001b[0m\u001b[0m\n",
      "\u001b[0;32mpandas/_libs/index.pyx\u001b[0m in \u001b[0;36mpandas._libs.index.IndexEngine.get_loc\u001b[0;34m()\u001b[0m\n",
      "\u001b[0;32mpandas/_libs/index.pyx\u001b[0m in \u001b[0;36mpandas._libs.index.IndexEngine.get_loc\u001b[0;34m()\u001b[0m\n",
      "\u001b[0;32mpandas/_libs/hashtable_class_helper.pxi\u001b[0m in \u001b[0;36mpandas._libs.hashtable.PyObjectHashTable.get_item\u001b[0;34m()\u001b[0m\n",
      "\u001b[0;32mpandas/_libs/hashtable_class_helper.pxi\u001b[0m in \u001b[0;36mpandas._libs.hashtable.PyObjectHashTable.get_item\u001b[0;34m()\u001b[0m\n",
      "\u001b[0;31mKeyError\u001b[0m: '0020232233'",
      "\nThe above exception was the direct cause of the following exception:\n",
      "\u001b[0;31mKeyError\u001b[0m                                  Traceback (most recent call last)",
      "\u001b[0;32m<timed exec>\u001b[0m in \u001b[0;36m<module>\u001b[0;34m\u001b[0m\n",
      "\u001b[0;32m~/.local/lib/python3.8/site-packages/pandas/core/indexes/base.py\u001b[0m in \u001b[0;36mget_loc\u001b[0;34m(self, key, method, tolerance)\u001b[0m\n\u001b[1;32m   3080\u001b[0m                 \u001b[0;32mreturn\u001b[0m \u001b[0mself\u001b[0m\u001b[0;34m.\u001b[0m\u001b[0m_engine\u001b[0m\u001b[0;34m.\u001b[0m\u001b[0mget_loc\u001b[0m\u001b[0;34m(\u001b[0m\u001b[0mcasted_key\u001b[0m\u001b[0;34m)\u001b[0m\u001b[0;34m\u001b[0m\u001b[0;34m\u001b[0m\u001b[0m\n\u001b[1;32m   3081\u001b[0m             \u001b[0;32mexcept\u001b[0m \u001b[0mKeyError\u001b[0m \u001b[0;32mas\u001b[0m \u001b[0merr\u001b[0m\u001b[0;34m:\u001b[0m\u001b[0;34m\u001b[0m\u001b[0;34m\u001b[0m\u001b[0m\n\u001b[0;32m-> 3082\u001b[0;31m                 \u001b[0;32mraise\u001b[0m \u001b[0mKeyError\u001b[0m\u001b[0;34m(\u001b[0m\u001b[0mkey\u001b[0m\u001b[0;34m)\u001b[0m \u001b[0;32mfrom\u001b[0m \u001b[0merr\u001b[0m\u001b[0;34m\u001b[0m\u001b[0;34m\u001b[0m\u001b[0m\n\u001b[0m\u001b[1;32m   3083\u001b[0m \u001b[0;34m\u001b[0m\u001b[0m\n\u001b[1;32m   3084\u001b[0m         \u001b[0;32mif\u001b[0m \u001b[0mtolerance\u001b[0m \u001b[0;32mis\u001b[0m \u001b[0;32mnot\u001b[0m \u001b[0;32mNone\u001b[0m\u001b[0;34m:\u001b[0m\u001b[0;34m\u001b[0m\u001b[0;34m\u001b[0m\u001b[0m\n",
      "\u001b[0;31mKeyError\u001b[0m: '0020232233'"
     ]
    }
   ],
   "source": [
    "%%time\n",
    "filehandle = open(fileRead, 'r')\n",
    "f = open(fileWrite, \"a\")\n",
    "i=0\n",
    "while True:\n",
    "        # read a single line\n",
    "        line = filehandle.readline()\n",
    "        if not line:\n",
    "            break\n",
    "        lines=line.split(\",\")\n",
    "        lines[0]=str(userLabel[1].get_loc(lines[0]))\n",
    "        lines[1]=str(itemLabel[1].get_loc(lines[1]))\n",
    "        lines.pop(-1)\n",
    "        f.write(\",\".join(lines)+\"\\n\")\n",
    "        i+=1\n",
    "        if(i%10000000)==0:\n",
    "            print(i/itemSize)\n",
    "f.close()\n",
    "filehandle.close()"
   ]
  },
  {
   "cell_type": "code",
   "execution_count": 6,
   "metadata": {},
   "outputs": [
    {
     "output_type": "stream",
     "name": "stdout",
     "text": [
      "   item  user  rating\n",
      "0     0     0     5.0\n",
      "1     0     1     5.0\n",
      "2     0     2     5.0\n",
      "3     0     3     4.0\n",
      "4     0     4     5.0\n",
      "CPU times: user 603 ms, sys: 67.3 ms, total: 670 ms\n",
      "Wall time: 5.82 s\n"
     ]
    }
   ],
   "source": [
    "%%time\n",
    "df = dd.read_csv(fileWrite, blocksize=blockSize,names=[\"user\", \"item\", \"rating\"])\n",
    "print(df.head())\n",
    "df.to_parquet(parquestWrite)"
   ]
  },
  {
   "cell_type": "code",
   "execution_count": 5,
   "metadata": {},
   "outputs": [
    {
     "output_type": "execute_result",
     "data": {
      "text/plain": [
       "'from dask.distributed import Variable\\nfutureUser = client.scatter(userLabel[1], broadcast=False)\\nuserLabelVar = Variable(name=\"userLabel\")\\nuserLabelVar.set(futureUser)\\nfutureItem = client.scatter(itemLabel[1], broadcast=False)\\nitemLabelVar = Variable(name=\"itemLabel\")\\nitemLabelVar.set(futureItem)'"
      ]
     },
     "metadata": {},
     "execution_count": 5
    }
   ],
   "source": [
    "'''from dask.distributed import Variable\n",
    "futureUser = client.scatter(userLabel[1], broadcast=False)\n",
    "userLabelVar = Variable(name=\"userLabel\")\n",
    "userLabelVar.set(futureUser)\n",
    "futureItem = client.scatter(itemLabel[1], broadcast=False)\n",
    "itemLabelVar = Variable(name=\"itemLabel\")\n",
    "itemLabelVar.set(futureItem)'''"
   ]
  },
  {
   "cell_type": "code",
   "execution_count": 7,
   "metadata": {},
   "outputs": [],
   "source": [
    "from dask import delayed\n",
    "import pandas as pd\n",
    "def mapRow(row):\n",
    "    row.user=(userLabel[1].get_loc(row.user))\n",
    "    row.item=(itemLabel[1].get_loc(row.item))\n",
    "    return row\n",
    "\n",
    "def mapPartition(partition):\n",
    "    partition[\"user\"]=df[\"user\"].map(userLabelVar.get().get_loc)\n",
    "    partition[\"item\"]=df[\"item\"].map(itemLabelVar.get().get_loc)\n",
    "    return partition\n",
    "    "
   ]
  },
  {
   "cell_type": "code",
   "execution_count": 7,
   "metadata": {},
   "outputs": [],
   "source": [
    "#data.map_partitions(lambda part: delayed(mapPartition)(part,userLabel,itemLabel),meta=object).compute().head()"
   ]
  }
 ]
}